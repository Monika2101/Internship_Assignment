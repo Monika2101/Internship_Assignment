{
 "cells": [
  {
   "cell_type": "markdown",
   "metadata": {},
   "source": [
    "# Expander\n",
    "•I have tried to predict the Expander 'Discharge Pressure (psig)'.\n",
    "\n",
    "•Implemented various Regression model and calulated MSE and rms\n",
    "\n",
    "•Achieved 90% Accuray\n",
    "\n",
    "Project done by Monika Kunwar"
   ]
  },
  {
   "cell_type": "code",
   "execution_count": 1,
   "metadata": {},
   "outputs": [],
   "source": [
    "#Importing Libraries\n",
    "import pandas as pd\n",
    "import numpy as np\n",
    "import matplotlib.pyplot as plt\n",
    "import seaborn as sns\n",
    " \n",
    "%matplotlib inline"
   ]
  },
  {
   "cell_type": "code",
   "execution_count": 2,
   "metadata": {},
   "outputs": [
    {
     "data": {
      "text/html": [
       "<div>\n",
       "<style scoped>\n",
       "    .dataframe tbody tr th:only-of-type {\n",
       "        vertical-align: middle;\n",
       "    }\n",
       "\n",
       "    .dataframe tbody tr th {\n",
       "        vertical-align: top;\n",
       "    }\n",
       "\n",
       "    .dataframe thead th {\n",
       "        text-align: right;\n",
       "    }\n",
       "</style>\n",
       "<table border=\"1\" class=\"dataframe\">\n",
       "  <thead>\n",
       "    <tr style=\"text-align: right;\">\n",
       "      <th></th>\n",
       "      <th>Timestamp</th>\n",
       "      <th>Suction Pressure (psig)</th>\n",
       "      <th>Suction Temperature (F)</th>\n",
       "      <th>Total Flow (gpm)</th>\n",
       "      <th>Speed (rpm)</th>\n",
       "      <th>By-pass Valve Position (%)</th>\n",
       "      <th>Discharge Pressure (psig)</th>\n",
       "      <th>Discharge Temperature (F)</th>\n",
       "      <th>Run Status</th>\n",
       "    </tr>\n",
       "  </thead>\n",
       "  <tbody>\n",
       "    <tr>\n",
       "      <th>0</th>\n",
       "      <td>1/4/2020 21:20</td>\n",
       "      <td>596.100853</td>\n",
       "      <td>-229.436683</td>\n",
       "      <td>7925.800487</td>\n",
       "      <td>2999.411045</td>\n",
       "      <td>6.0</td>\n",
       "      <td>226.044931</td>\n",
       "      <td>-227.614448</td>\n",
       "      <td>NaN</td>\n",
       "    </tr>\n",
       "    <tr>\n",
       "      <th>1</th>\n",
       "      <td>1/4/2020 21:20</td>\n",
       "      <td>596.838217</td>\n",
       "      <td>-230.453708</td>\n",
       "      <td>8085.917724</td>\n",
       "      <td>2989.706617</td>\n",
       "      <td>6.0</td>\n",
       "      <td>217.150974</td>\n",
       "      <td>-228.668636</td>\n",
       "      <td>NaN</td>\n",
       "    </tr>\n",
       "    <tr>\n",
       "      <th>2</th>\n",
       "      <td>1/4/2020 21:20</td>\n",
       "      <td>596.468895</td>\n",
       "      <td>-229.545356</td>\n",
       "      <td>7902.175243</td>\n",
       "      <td>3006.331679</td>\n",
       "      <td>6.0</td>\n",
       "      <td>226.054086</td>\n",
       "      <td>-227.755324</td>\n",
       "      <td>NaN</td>\n",
       "    </tr>\n",
       "    <tr>\n",
       "      <th>3</th>\n",
       "      <td>1/4/2020 21:20</td>\n",
       "      <td>603.568271</td>\n",
       "      <td>-230.309438</td>\n",
       "      <td>7991.808959</td>\n",
       "      <td>3010.487486</td>\n",
       "      <td>6.0</td>\n",
       "      <td>226.016182</td>\n",
       "      <td>-228.489113</td>\n",
       "      <td>NaN</td>\n",
       "    </tr>\n",
       "    <tr>\n",
       "      <th>4</th>\n",
       "      <td>1/4/2020 21:21</td>\n",
       "      <td>595.407372</td>\n",
       "      <td>-229.767969</td>\n",
       "      <td>7871.560747</td>\n",
       "      <td>2986.665518</td>\n",
       "      <td>6.0</td>\n",
       "      <td>227.769383</td>\n",
       "      <td>-227.971795</td>\n",
       "      <td>NaN</td>\n",
       "    </tr>\n",
       "  </tbody>\n",
       "</table>\n",
       "</div>"
      ],
      "text/plain": [
       "        Timestamp  Suction Pressure (psig)  Suction Temperature (F)  \\\n",
       "0  1/4/2020 21:20               596.100853              -229.436683   \n",
       "1  1/4/2020 21:20               596.838217              -230.453708   \n",
       "2  1/4/2020 21:20               596.468895              -229.545356   \n",
       "3  1/4/2020 21:20               603.568271              -230.309438   \n",
       "4  1/4/2020 21:21               595.407372              -229.767969   \n",
       "\n",
       "   Total Flow (gpm)  Speed (rpm)  By-pass Valve Position (%)  \\\n",
       "0       7925.800487  2999.411045                         6.0   \n",
       "1       8085.917724  2989.706617                         6.0   \n",
       "2       7902.175243  3006.331679                         6.0   \n",
       "3       7991.808959  3010.487486                         6.0   \n",
       "4       7871.560747  2986.665518                         6.0   \n",
       "\n",
       "   Discharge Pressure (psig)  Discharge Temperature (F)  Run Status  \n",
       "0                 226.044931                -227.614448         NaN  \n",
       "1                 217.150974                -228.668636         NaN  \n",
       "2                 226.054086                -227.755324         NaN  \n",
       "3                 226.016182                -228.489113         NaN  \n",
       "4                 227.769383                -227.971795         NaN  "
      ]
     },
     "execution_count": 2,
     "metadata": {},
     "output_type": "execute_result"
    }
   ],
   "source": [
    "#Importing Dataset\n",
    "data=pd.read_csv('Desktop\\Dataset\\Expander_data.csv')\n",
    "data.head()"
   ]
  },
  {
   "cell_type": "code",
   "execution_count": 3,
   "metadata": {},
   "outputs": [
    {
     "data": {
      "text/html": [
       "<div>\n",
       "<style scoped>\n",
       "    .dataframe tbody tr th:only-of-type {\n",
       "        vertical-align: middle;\n",
       "    }\n",
       "\n",
       "    .dataframe tbody tr th {\n",
       "        vertical-align: top;\n",
       "    }\n",
       "\n",
       "    .dataframe thead th {\n",
       "        text-align: right;\n",
       "    }\n",
       "</style>\n",
       "<table border=\"1\" class=\"dataframe\">\n",
       "  <thead>\n",
       "    <tr style=\"text-align: right;\">\n",
       "      <th></th>\n",
       "      <th>Timestamp</th>\n",
       "      <th>Suction Pressure (psig)</th>\n",
       "      <th>Suction Temperature (F)</th>\n",
       "      <th>Total Flow (gpm)</th>\n",
       "      <th>Speed (rpm)</th>\n",
       "      <th>By-pass Valve Position (%)</th>\n",
       "      <th>Discharge Pressure (psig)</th>\n",
       "      <th>Discharge Temperature (F)</th>\n",
       "      <th>Run Status</th>\n",
       "    </tr>\n",
       "  </thead>\n",
       "  <tbody>\n",
       "    <tr>\n",
       "      <th>296445</th>\n",
       "      <td>4/17/2020 10:31</td>\n",
       "      <td>596.611125</td>\n",
       "      <td>-230.191381</td>\n",
       "      <td>7959.768879</td>\n",
       "      <td>2997.812618</td>\n",
       "      <td>6.0</td>\n",
       "      <td>221.753096</td>\n",
       "      <td>-228.401583</td>\n",
       "      <td>NaN</td>\n",
       "    </tr>\n",
       "    <tr>\n",
       "      <th>296446</th>\n",
       "      <td>4/17/2020 10:31</td>\n",
       "      <td>597.319541</td>\n",
       "      <td>-230.084466</td>\n",
       "      <td>7947.662310</td>\n",
       "      <td>3004.436412</td>\n",
       "      <td>6.0</td>\n",
       "      <td>225.208842</td>\n",
       "      <td>-228.284966</td>\n",
       "      <td>NaN</td>\n",
       "    </tr>\n",
       "    <tr>\n",
       "      <th>296447</th>\n",
       "      <td>4/17/2020 10:31</td>\n",
       "      <td>604.480493</td>\n",
       "      <td>-230.162283</td>\n",
       "      <td>7944.993098</td>\n",
       "      <td>2999.621114</td>\n",
       "      <td>6.0</td>\n",
       "      <td>231.336761</td>\n",
       "      <td>-228.339348</td>\n",
       "      <td>NaN</td>\n",
       "    </tr>\n",
       "    <tr>\n",
       "      <th>296448</th>\n",
       "      <td>4/17/2020 10:32</td>\n",
       "      <td>605.071293</td>\n",
       "      <td>-229.547767</td>\n",
       "      <td>8107.651750</td>\n",
       "      <td>3008.993634</td>\n",
       "      <td>6.0</td>\n",
       "      <td>220.675692</td>\n",
       "      <td>-227.760228</td>\n",
       "      <td>NaN</td>\n",
       "    </tr>\n",
       "    <tr>\n",
       "      <th>296449</th>\n",
       "      <td>4/17/2020 10:32</td>\n",
       "      <td>595.669526</td>\n",
       "      <td>-230.493843</td>\n",
       "      <td>8151.621431</td>\n",
       "      <td>3006.425541</td>\n",
       "      <td>6.0</td>\n",
       "      <td>207.931428</td>\n",
       "      <td>-228.692008</td>\n",
       "      <td>NaN</td>\n",
       "    </tr>\n",
       "  </tbody>\n",
       "</table>\n",
       "</div>"
      ],
      "text/plain": [
       "              Timestamp  Suction Pressure (psig)  Suction Temperature (F)  \\\n",
       "296445  4/17/2020 10:31               596.611125              -230.191381   \n",
       "296446  4/17/2020 10:31               597.319541              -230.084466   \n",
       "296447  4/17/2020 10:31               604.480493              -230.162283   \n",
       "296448  4/17/2020 10:32               605.071293              -229.547767   \n",
       "296449  4/17/2020 10:32               595.669526              -230.493843   \n",
       "\n",
       "        Total Flow (gpm)  Speed (rpm)  By-pass Valve Position (%)  \\\n",
       "296445       7959.768879  2997.812618                         6.0   \n",
       "296446       7947.662310  3004.436412                         6.0   \n",
       "296447       7944.993098  2999.621114                         6.0   \n",
       "296448       8107.651750  3008.993634                         6.0   \n",
       "296449       8151.621431  3006.425541                         6.0   \n",
       "\n",
       "        Discharge Pressure (psig)  Discharge Temperature (F)  Run Status  \n",
       "296445                 221.753096                -228.401583         NaN  \n",
       "296446                 225.208842                -228.284966         NaN  \n",
       "296447                 231.336761                -228.339348         NaN  \n",
       "296448                 220.675692                -227.760228         NaN  \n",
       "296449                 207.931428                -228.692008         NaN  "
      ]
     },
     "execution_count": 3,
     "metadata": {},
     "output_type": "execute_result"
    }
   ],
   "source": [
    "data.tail()"
   ]
  },
  {
   "cell_type": "code",
   "execution_count": 4,
   "metadata": {},
   "outputs": [
    {
     "data": {
      "text/plain": [
       "Index(['Timestamp', 'Suction Pressure (psig)', 'Suction Temperature (F)',\n",
       "       'Total Flow (gpm)', 'Speed (rpm)', 'By-pass Valve Position (%)',\n",
       "       'Discharge Pressure (psig)', 'Discharge Temperature (F)', 'Run Status'],\n",
       "      dtype='object')"
      ]
     },
     "execution_count": 4,
     "metadata": {},
     "output_type": "execute_result"
    }
   ],
   "source": [
    "data.columns"
   ]
  },
  {
   "cell_type": "code",
   "execution_count": 5,
   "metadata": {},
   "outputs": [
    {
     "data": {
      "text/plain": [
       "(296450, 9)"
      ]
     },
     "execution_count": 5,
     "metadata": {},
     "output_type": "execute_result"
    }
   ],
   "source": [
    "data.shape"
   ]
  },
  {
   "cell_type": "code",
   "execution_count": 6,
   "metadata": {},
   "outputs": [
    {
     "data": {
      "text/plain": [
       "Timestamp                      object\n",
       "Suction Pressure (psig)       float64\n",
       "Suction Temperature (F)       float64\n",
       "Total Flow (gpm)              float64\n",
       "Speed (rpm)                   float64\n",
       "By-pass Valve Position (%)    float64\n",
       "Discharge Pressure (psig)     float64\n",
       "Discharge Temperature (F)     float64\n",
       "Run Status                    float64\n",
       "dtype: object"
      ]
     },
     "execution_count": 6,
     "metadata": {},
     "output_type": "execute_result"
    }
   ],
   "source": [
    "data.dtypes"
   ]
  },
  {
   "cell_type": "code",
   "execution_count": 7,
   "metadata": {},
   "outputs": [
    {
     "data": {
      "text/html": [
       "<div>\n",
       "<style scoped>\n",
       "    .dataframe tbody tr th:only-of-type {\n",
       "        vertical-align: middle;\n",
       "    }\n",
       "\n",
       "    .dataframe tbody tr th {\n",
       "        vertical-align: top;\n",
       "    }\n",
       "\n",
       "    .dataframe thead th {\n",
       "        text-align: right;\n",
       "    }\n",
       "</style>\n",
       "<table border=\"1\" class=\"dataframe\">\n",
       "  <thead>\n",
       "    <tr style=\"text-align: right;\">\n",
       "      <th></th>\n",
       "      <th>Suction Pressure (psig)</th>\n",
       "      <th>Suction Temperature (F)</th>\n",
       "      <th>Total Flow (gpm)</th>\n",
       "      <th>Speed (rpm)</th>\n",
       "      <th>By-pass Valve Position (%)</th>\n",
       "      <th>Discharge Pressure (psig)</th>\n",
       "      <th>Discharge Temperature (F)</th>\n",
       "      <th>Run Status</th>\n",
       "    </tr>\n",
       "  </thead>\n",
       "  <tbody>\n",
       "    <tr>\n",
       "      <th>count</th>\n",
       "      <td>296450.000000</td>\n",
       "      <td>296450.000000</td>\n",
       "      <td>296450.000000</td>\n",
       "      <td>296450.000000</td>\n",
       "      <td>296450.000000</td>\n",
       "      <td>296450.000000</td>\n",
       "      <td>296450.000000</td>\n",
       "      <td>0.0</td>\n",
       "    </tr>\n",
       "    <tr>\n",
       "      <th>mean</th>\n",
       "      <td>590.541350</td>\n",
       "      <td>-231.564934</td>\n",
       "      <td>8119.917777</td>\n",
       "      <td>2955.416695</td>\n",
       "      <td>2.005667</td>\n",
       "      <td>186.991087</td>\n",
       "      <td>-229.764934</td>\n",
       "      <td>NaN</td>\n",
       "    </tr>\n",
       "    <tr>\n",
       "      <th>std</th>\n",
       "      <td>23.216552</td>\n",
       "      <td>3.574107</td>\n",
       "      <td>398.049531</td>\n",
       "      <td>54.201467</td>\n",
       "      <td>2.488568</td>\n",
       "      <td>56.205183</td>\n",
       "      <td>3.574136</td>\n",
       "      <td>NaN</td>\n",
       "    </tr>\n",
       "    <tr>\n",
       "      <th>min</th>\n",
       "      <td>552.420048</td>\n",
       "      <td>-238.594971</td>\n",
       "      <td>7056.004500</td>\n",
       "      <td>2835.750571</td>\n",
       "      <td>-0.200000</td>\n",
       "      <td>69.983885</td>\n",
       "      <td>-236.816223</td>\n",
       "      <td>NaN</td>\n",
       "    </tr>\n",
       "    <tr>\n",
       "      <th>25%</th>\n",
       "      <td>572.757269</td>\n",
       "      <td>-234.171427</td>\n",
       "      <td>7916.322054</td>\n",
       "      <td>2906.336126</td>\n",
       "      <td>0.000000</td>\n",
       "      <td>143.468467</td>\n",
       "      <td>-232.371760</td>\n",
       "      <td>NaN</td>\n",
       "    </tr>\n",
       "    <tr>\n",
       "      <th>50%</th>\n",
       "      <td>586.491792</td>\n",
       "      <td>-230.922352</td>\n",
       "      <td>8144.161813</td>\n",
       "      <td>2961.788792</td>\n",
       "      <td>0.000000</td>\n",
       "      <td>183.270451</td>\n",
       "      <td>-229.122946</td>\n",
       "      <td>NaN</td>\n",
       "    </tr>\n",
       "    <tr>\n",
       "      <th>75%</th>\n",
       "      <td>605.986608</td>\n",
       "      <td>-229.585168</td>\n",
       "      <td>8388.610374</td>\n",
       "      <td>3000.863611</td>\n",
       "      <td>4.000000</td>\n",
       "      <td>223.580205</td>\n",
       "      <td>-227.785796</td>\n",
       "      <td>NaN</td>\n",
       "    </tr>\n",
       "    <tr>\n",
       "      <th>max</th>\n",
       "      <td>649.217417</td>\n",
       "      <td>-223.440125</td>\n",
       "      <td>8975.986378</td>\n",
       "      <td>3090.367995</td>\n",
       "      <td>8.026667</td>\n",
       "      <td>324.411576</td>\n",
       "      <td>-221.617102</td>\n",
       "      <td>NaN</td>\n",
       "    </tr>\n",
       "  </tbody>\n",
       "</table>\n",
       "</div>"
      ],
      "text/plain": [
       "       Suction Pressure (psig)  Suction Temperature (F)  Total Flow (gpm)  \\\n",
       "count            296450.000000            296450.000000     296450.000000   \n",
       "mean                590.541350              -231.564934       8119.917777   \n",
       "std                  23.216552                 3.574107        398.049531   \n",
       "min                 552.420048              -238.594971       7056.004500   \n",
       "25%                 572.757269              -234.171427       7916.322054   \n",
       "50%                 586.491792              -230.922352       8144.161813   \n",
       "75%                 605.986608              -229.585168       8388.610374   \n",
       "max                 649.217417              -223.440125       8975.986378   \n",
       "\n",
       "         Speed (rpm)  By-pass Valve Position (%)  Discharge Pressure (psig)  \\\n",
       "count  296450.000000               296450.000000              296450.000000   \n",
       "mean     2955.416695                    2.005667                 186.991087   \n",
       "std        54.201467                    2.488568                  56.205183   \n",
       "min      2835.750571                   -0.200000                  69.983885   \n",
       "25%      2906.336126                    0.000000                 143.468467   \n",
       "50%      2961.788792                    0.000000                 183.270451   \n",
       "75%      3000.863611                    4.000000                 223.580205   \n",
       "max      3090.367995                    8.026667                 324.411576   \n",
       "\n",
       "       Discharge Temperature (F)  Run Status  \n",
       "count              296450.000000         0.0  \n",
       "mean                 -229.764934         NaN  \n",
       "std                     3.574136         NaN  \n",
       "min                  -236.816223         NaN  \n",
       "25%                  -232.371760         NaN  \n",
       "50%                  -229.122946         NaN  \n",
       "75%                  -227.785796         NaN  \n",
       "max                  -221.617102         NaN  "
      ]
     },
     "execution_count": 7,
     "metadata": {},
     "output_type": "execute_result"
    }
   ],
   "source": [
    "data.describe()"
   ]
  },
  {
   "cell_type": "code",
   "execution_count": 8,
   "metadata": {},
   "outputs": [
    {
     "data": {
      "text/html": [
       "<div>\n",
       "<style scoped>\n",
       "    .dataframe tbody tr th:only-of-type {\n",
       "        vertical-align: middle;\n",
       "    }\n",
       "\n",
       "    .dataframe tbody tr th {\n",
       "        vertical-align: top;\n",
       "    }\n",
       "\n",
       "    .dataframe thead th {\n",
       "        text-align: right;\n",
       "    }\n",
       "</style>\n",
       "<table border=\"1\" class=\"dataframe\">\n",
       "  <thead>\n",
       "    <tr style=\"text-align: right;\">\n",
       "      <th></th>\n",
       "      <th>Suction Pressure (psig)</th>\n",
       "      <th>Suction Temperature (F)</th>\n",
       "      <th>Total Flow (gpm)</th>\n",
       "      <th>Speed (rpm)</th>\n",
       "      <th>By-pass Valve Position (%)</th>\n",
       "      <th>Discharge Pressure (psig)</th>\n",
       "      <th>Discharge Temperature (F)</th>\n",
       "      <th>Run Status</th>\n",
       "    </tr>\n",
       "  </thead>\n",
       "  <tbody>\n",
       "    <tr>\n",
       "      <th>Suction Pressure (psig)</th>\n",
       "      <td>1.000000</td>\n",
       "      <td>0.862881</td>\n",
       "      <td>-0.873558</td>\n",
       "      <td>-0.371829</td>\n",
       "      <td>0.089420</td>\n",
       "      <td>0.905435</td>\n",
       "      <td>0.862876</td>\n",
       "      <td>NaN</td>\n",
       "    </tr>\n",
       "    <tr>\n",
       "      <th>Suction Temperature (F)</th>\n",
       "      <td>0.862881</td>\n",
       "      <td>1.000000</td>\n",
       "      <td>-0.938631</td>\n",
       "      <td>-0.500437</td>\n",
       "      <td>0.349575</td>\n",
       "      <td>0.960071</td>\n",
       "      <td>0.999993</td>\n",
       "      <td>NaN</td>\n",
       "    </tr>\n",
       "    <tr>\n",
       "      <th>Total Flow (gpm)</th>\n",
       "      <td>-0.873558</td>\n",
       "      <td>-0.938631</td>\n",
       "      <td>1.000000</td>\n",
       "      <td>0.484320</td>\n",
       "      <td>-0.274621</td>\n",
       "      <td>-0.973483</td>\n",
       "      <td>-0.938624</td>\n",
       "      <td>NaN</td>\n",
       "    </tr>\n",
       "    <tr>\n",
       "      <th>Speed (rpm)</th>\n",
       "      <td>-0.371829</td>\n",
       "      <td>-0.500437</td>\n",
       "      <td>0.484320</td>\n",
       "      <td>1.000000</td>\n",
       "      <td>0.175187</td>\n",
       "      <td>-0.434955</td>\n",
       "      <td>-0.500435</td>\n",
       "      <td>NaN</td>\n",
       "    </tr>\n",
       "    <tr>\n",
       "      <th>By-pass Valve Position (%)</th>\n",
       "      <td>0.089420</td>\n",
       "      <td>0.349575</td>\n",
       "      <td>-0.274621</td>\n",
       "      <td>0.175187</td>\n",
       "      <td>1.000000</td>\n",
       "      <td>0.400566</td>\n",
       "      <td>0.349572</td>\n",
       "      <td>NaN</td>\n",
       "    </tr>\n",
       "    <tr>\n",
       "      <th>Discharge Pressure (psig)</th>\n",
       "      <td>0.905435</td>\n",
       "      <td>0.960071</td>\n",
       "      <td>-0.973483</td>\n",
       "      <td>-0.434955</td>\n",
       "      <td>0.400566</td>\n",
       "      <td>1.000000</td>\n",
       "      <td>0.960065</td>\n",
       "      <td>NaN</td>\n",
       "    </tr>\n",
       "    <tr>\n",
       "      <th>Discharge Temperature (F)</th>\n",
       "      <td>0.862876</td>\n",
       "      <td>0.999993</td>\n",
       "      <td>-0.938624</td>\n",
       "      <td>-0.500435</td>\n",
       "      <td>0.349572</td>\n",
       "      <td>0.960065</td>\n",
       "      <td>1.000000</td>\n",
       "      <td>NaN</td>\n",
       "    </tr>\n",
       "    <tr>\n",
       "      <th>Run Status</th>\n",
       "      <td>NaN</td>\n",
       "      <td>NaN</td>\n",
       "      <td>NaN</td>\n",
       "      <td>NaN</td>\n",
       "      <td>NaN</td>\n",
       "      <td>NaN</td>\n",
       "      <td>NaN</td>\n",
       "      <td>NaN</td>\n",
       "    </tr>\n",
       "  </tbody>\n",
       "</table>\n",
       "</div>"
      ],
      "text/plain": [
       "                            Suction Pressure (psig)  Suction Temperature (F)  \\\n",
       "Suction Pressure (psig)                    1.000000                 0.862881   \n",
       "Suction Temperature (F)                    0.862881                 1.000000   \n",
       "Total Flow (gpm)                          -0.873558                -0.938631   \n",
       "Speed (rpm)                               -0.371829                -0.500437   \n",
       "By-pass Valve Position (%)                 0.089420                 0.349575   \n",
       "Discharge Pressure (psig)                  0.905435                 0.960071   \n",
       "Discharge Temperature (F)                  0.862876                 0.999993   \n",
       "Run Status                                      NaN                      NaN   \n",
       "\n",
       "                            Total Flow (gpm)  Speed (rpm)  \\\n",
       "Suction Pressure (psig)            -0.873558    -0.371829   \n",
       "Suction Temperature (F)            -0.938631    -0.500437   \n",
       "Total Flow (gpm)                    1.000000     0.484320   \n",
       "Speed (rpm)                         0.484320     1.000000   \n",
       "By-pass Valve Position (%)         -0.274621     0.175187   \n",
       "Discharge Pressure (psig)          -0.973483    -0.434955   \n",
       "Discharge Temperature (F)          -0.938624    -0.500435   \n",
       "Run Status                               NaN          NaN   \n",
       "\n",
       "                            By-pass Valve Position (%)  \\\n",
       "Suction Pressure (psig)                       0.089420   \n",
       "Suction Temperature (F)                       0.349575   \n",
       "Total Flow (gpm)                             -0.274621   \n",
       "Speed (rpm)                                   0.175187   \n",
       "By-pass Valve Position (%)                    1.000000   \n",
       "Discharge Pressure (psig)                     0.400566   \n",
       "Discharge Temperature (F)                     0.349572   \n",
       "Run Status                                         NaN   \n",
       "\n",
       "                            Discharge Pressure (psig)  \\\n",
       "Suction Pressure (psig)                      0.905435   \n",
       "Suction Temperature (F)                      0.960071   \n",
       "Total Flow (gpm)                            -0.973483   \n",
       "Speed (rpm)                                 -0.434955   \n",
       "By-pass Valve Position (%)                   0.400566   \n",
       "Discharge Pressure (psig)                    1.000000   \n",
       "Discharge Temperature (F)                    0.960065   \n",
       "Run Status                                        NaN   \n",
       "\n",
       "                            Discharge Temperature (F)  Run Status  \n",
       "Suction Pressure (psig)                      0.862876         NaN  \n",
       "Suction Temperature (F)                      0.999993         NaN  \n",
       "Total Flow (gpm)                            -0.938624         NaN  \n",
       "Speed (rpm)                                 -0.500435         NaN  \n",
       "By-pass Valve Position (%)                   0.349572         NaN  \n",
       "Discharge Pressure (psig)                    0.960065         NaN  \n",
       "Discharge Temperature (F)                    1.000000         NaN  \n",
       "Run Status                                        NaN         NaN  "
      ]
     },
     "execution_count": 8,
     "metadata": {},
     "output_type": "execute_result"
    }
   ],
   "source": [
    "data.corr()"
   ]
  },
  {
   "cell_type": "code",
   "execution_count": 9,
   "metadata": {},
   "outputs": [
    {
     "data": {
      "image/png": "[encoded data removed]",
      "text/plain": [
       "<Figure size 864x720 with 2 Axes>"
      ]
     },
     "metadata": {
      "needs_background": "light"
     },
     "output_type": "display_data"
    }
   ],
   "source": [
    "plt.figure(figsize=(12,10))\n",
    "sns.heatmap(data.corr(),annot=True,cmap='Greens')\n",
    "plt.show()"
   ]
  },
  {
   "cell_type": "code",
   "execution_count": 10,
   "metadata": {},
   "outputs": [
    {
     "data": {
      "text/plain": [
       "Timestamp                          0\n",
       "Suction Pressure (psig)            0\n",
       "Suction Temperature (F)            0\n",
       "Total Flow (gpm)                   0\n",
       "Speed (rpm)                        0\n",
       "By-pass Valve Position (%)         0\n",
       "Discharge Pressure (psig)          0\n",
       "Discharge Temperature (F)          0\n",
       "Run Status                    296450\n",
       "dtype: int64"
      ]
     },
     "execution_count": 10,
     "metadata": {},
     "output_type": "execute_result"
    }
   ],
   "source": [
    "data.isnull().sum()"
   ]
  },
  {
   "cell_type": "code",
   "execution_count": 11,
   "metadata": {},
   "outputs": [
    {
     "data": {
      "text/html": [
       "<div>\n",
       "<style scoped>\n",
       "    .dataframe tbody tr th:only-of-type {\n",
       "        vertical-align: middle;\n",
       "    }\n",
       "\n",
       "    .dataframe tbody tr th {\n",
       "        vertical-align: top;\n",
       "    }\n",
       "\n",
       "    .dataframe thead th {\n",
       "        text-align: right;\n",
       "    }\n",
       "</style>\n",
       "<table border=\"1\" class=\"dataframe\">\n",
       "  <thead>\n",
       "    <tr style=\"text-align: right;\">\n",
       "      <th></th>\n",
       "      <th>Timestamp</th>\n",
       "      <th>Suction Pressure (psig)</th>\n",
       "      <th>Suction Temperature (F)</th>\n",
       "      <th>Total Flow (gpm)</th>\n",
       "      <th>Speed (rpm)</th>\n",
       "      <th>By-pass Valve Position (%)</th>\n",
       "      <th>Discharge Pressure (psig)</th>\n",
       "      <th>Discharge Temperature (F)</th>\n",
       "      <th>Run Status</th>\n",
       "    </tr>\n",
       "    <tr>\n",
       "      <th>date_time</th>\n",
       "      <th></th>\n",
       "      <th></th>\n",
       "      <th></th>\n",
       "      <th></th>\n",
       "      <th></th>\n",
       "      <th></th>\n",
       "      <th></th>\n",
       "      <th></th>\n",
       "      <th></th>\n",
       "    </tr>\n",
       "  </thead>\n",
       "  <tbody>\n",
       "    <tr>\n",
       "      <th>2020-01-04 21:20:00</th>\n",
       "      <td>1/4/2020 21:20</td>\n",
       "      <td>596.100853</td>\n",
       "      <td>-229.436683</td>\n",
       "      <td>7925.800487</td>\n",
       "      <td>2999.411045</td>\n",
       "      <td>6.0</td>\n",
       "      <td>226.044931</td>\n",
       "      <td>-227.614448</td>\n",
       "      <td>NaN</td>\n",
       "    </tr>\n",
       "    <tr>\n",
       "      <th>2020-01-04 21:20:00</th>\n",
       "      <td>1/4/2020 21:20</td>\n",
       "      <td>596.838217</td>\n",
       "      <td>-230.453708</td>\n",
       "      <td>8085.917724</td>\n",
       "      <td>2989.706617</td>\n",
       "      <td>6.0</td>\n",
       "      <td>217.150974</td>\n",
       "      <td>-228.668636</td>\n",
       "      <td>NaN</td>\n",
       "    </tr>\n",
       "    <tr>\n",
       "      <th>2020-01-04 21:20:00</th>\n",
       "      <td>1/4/2020 21:20</td>\n",
       "      <td>596.468895</td>\n",
       "      <td>-229.545356</td>\n",
       "      <td>7902.175243</td>\n",
       "      <td>3006.331679</td>\n",
       "      <td>6.0</td>\n",
       "      <td>226.054086</td>\n",
       "      <td>-227.755324</td>\n",
       "      <td>NaN</td>\n",
       "    </tr>\n",
       "    <tr>\n",
       "      <th>2020-01-04 21:20:00</th>\n",
       "      <td>1/4/2020 21:20</td>\n",
       "      <td>603.568271</td>\n",
       "      <td>-230.309438</td>\n",
       "      <td>7991.808959</td>\n",
       "      <td>3010.487486</td>\n",
       "      <td>6.0</td>\n",
       "      <td>226.016182</td>\n",
       "      <td>-228.489113</td>\n",
       "      <td>NaN</td>\n",
       "    </tr>\n",
       "    <tr>\n",
       "      <th>2020-01-04 21:21:00</th>\n",
       "      <td>1/4/2020 21:21</td>\n",
       "      <td>595.407372</td>\n",
       "      <td>-229.767969</td>\n",
       "      <td>7871.560747</td>\n",
       "      <td>2986.665518</td>\n",
       "      <td>6.0</td>\n",
       "      <td>227.769383</td>\n",
       "      <td>-227.971795</td>\n",
       "      <td>NaN</td>\n",
       "    </tr>\n",
       "  </tbody>\n",
       "</table>\n",
       "</div>"
      ],
      "text/plain": [
       "                          Timestamp  Suction Pressure (psig)  \\\n",
       "date_time                                                      \n",
       "2020-01-04 21:20:00  1/4/2020 21:20               596.100853   \n",
       "2020-01-04 21:20:00  1/4/2020 21:20               596.838217   \n",
       "2020-01-04 21:20:00  1/4/2020 21:20               596.468895   \n",
       "2020-01-04 21:20:00  1/4/2020 21:20               603.568271   \n",
       "2020-01-04 21:21:00  1/4/2020 21:21               595.407372   \n",
       "\n",
       "                     Suction Temperature (F)  Total Flow (gpm)  Speed (rpm)  \\\n",
       "date_time                                                                     \n",
       "2020-01-04 21:20:00              -229.436683       7925.800487  2999.411045   \n",
       "2020-01-04 21:20:00              -230.453708       8085.917724  2989.706617   \n",
       "2020-01-04 21:20:00              -229.545356       7902.175243  3006.331679   \n",
       "2020-01-04 21:20:00              -230.309438       7991.808959  3010.487486   \n",
       "2020-01-04 21:21:00              -229.767969       7871.560747  2986.665518   \n",
       "\n",
       "                     By-pass Valve Position (%)  Discharge Pressure (psig)  \\\n",
       "date_time                                                                    \n",
       "2020-01-04 21:20:00                         6.0                 226.044931   \n",
       "2020-01-04 21:20:00                         6.0                 217.150974   \n",
       "2020-01-04 21:20:00                         6.0                 226.054086   \n",
       "2020-01-04 21:20:00                         6.0                 226.016182   \n",
       "2020-01-04 21:21:00                         6.0                 227.769383   \n",
       "\n",
       "                     Discharge Temperature (F)  Run Status  \n",
       "date_time                                                   \n",
       "2020-01-04 21:20:00                -227.614448         NaN  \n",
       "2020-01-04 21:20:00                -228.668636         NaN  \n",
       "2020-01-04 21:20:00                -227.755324         NaN  \n",
       "2020-01-04 21:20:00                -228.489113         NaN  \n",
       "2020-01-04 21:21:00                -227.971795         NaN  "
      ]
     },
     "execution_count": 11,
     "metadata": {},
     "output_type": "execute_result"
    }
   ],
   "source": [
    "# creating new column for date_time\n",
    "data['date_time']=pd.to_datetime(data['Timestamp'])\n",
    "data.head()\n",
    "new_data=data.set_index('date_time')\n",
    "new_data.head()"
   ]
  },
  {
   "cell_type": "code",
   "execution_count": 12,
   "metadata": {},
   "outputs": [],
   "source": [
    "#Removing columns \n",
    "data.drop(columns=['Timestamp','Run Status','By-pass Valve Position (%)'],axis=1, inplace=True)"
   ]
  },
  {
   "cell_type": "code",
   "execution_count": 13,
   "metadata": {},
   "outputs": [],
   "source": [
    "# spliting dataset into dependent & independent data\n",
    "\n",
    "X=data.iloc[:,[0,1,2,3,5]].values\n",
    "Y=data['Discharge Pressure (psig)'].values"
   ]
  },
  {
   "cell_type": "code",
   "execution_count": 14,
   "metadata": {},
   "outputs": [],
   "source": [
    "#Normalization\n",
    "from sklearn.preprocessing import StandardScaler\n",
    "sc=StandardScaler()\n",
    "X_sc=sc.fit_transform(X)"
   ]
  },
  {
   "cell_type": "code",
   "execution_count": 15,
   "metadata": {},
   "outputs": [],
   "source": [
    "#Splitting Dataset into train and test set\n",
    "from sklearn.model_selection import train_test_split\n",
    "X_train, X_test, Y_train, Y_test = train_test_split(X,Y,test_size=0.25,random_state=42)"
   ]
  },
  {
   "cell_type": "code",
   "execution_count": 16,
   "metadata": {},
   "outputs": [],
   "source": [
    "#Implementing Linear Regression\n",
    "from sklearn.linear_model import LinearRegression\n",
    "lr = LinearRegression().fit(X_train,Y_train)"
   ]
  },
  {
   "cell_type": "code",
   "execution_count": 17,
   "metadata": {},
   "outputs": [
    {
     "data": {
      "text/plain": [
       "0.9746936915776899"
      ]
     },
     "execution_count": 17,
     "metadata": {},
     "output_type": "execute_result"
    }
   ],
   "source": [
    "#Checking the accuracy \n",
    "lr.score(X_test,Y_test)"
   ]
  },
  {
   "cell_type": "code",
   "execution_count": 18,
   "metadata": {},
   "outputs": [
    {
     "data": {
      "text/plain": [
       "array([159.64538329, 202.15432408, 157.68266055, ..., 154.20226853,\n",
       "       122.83277717, 214.30054656])"
      ]
     },
     "execution_count": 18,
     "metadata": {},
     "output_type": "execute_result"
    }
   ],
   "source": [
    "y_pred=lr.predict(X_test)\n",
    "y_pred"
   ]
  },
  {
   "cell_type": "code",
   "execution_count": 19,
   "metadata": {},
   "outputs": [
    {
     "data": {
      "text/plain": [
       "79.71296378861224"
      ]
     },
     "execution_count": 19,
     "metadata": {},
     "output_type": "execute_result"
    }
   ],
   "source": [
    "from sklearn.metrics import mean_squared_error\n",
    "from math import sqrt \n",
    "mean_squared_error(Y_test,y_pred)"
   ]
  },
  {
   "cell_type": "code",
   "execution_count": 20,
   "metadata": {},
   "outputs": [
    {
     "data": {
      "text/plain": [
       "8.928211679200501"
      ]
     },
     "execution_count": 20,
     "metadata": {},
     "output_type": "execute_result"
    }
   ],
   "source": [
    "rms = sqrt(mean_squared_error(Y_test, y_pred))\n",
    "rms"
   ]
  },
  {
   "cell_type": "code",
   "execution_count": 21,
   "metadata": {},
   "outputs": [],
   "source": [
    "#Decision Tree Regressor\n",
    "from sklearn.tree import DecisionTreeRegressor\n",
    "regressor = DecisionTreeRegressor(random_state=0)"
   ]
  },
  {
   "cell_type": "code",
   "execution_count": 22,
   "metadata": {},
   "outputs": [
    {
     "data": {
      "text/plain": [
       "0.998056741287005"
      ]
     },
     "execution_count": 22,
     "metadata": {},
     "output_type": "execute_result"
    }
   ],
   "source": [
    "regressor.fit(X_train,Y_train)\n",
    "y_pred=regressor.predict(X_test)\n",
    "regressor.score(X_test,Y_test)\n"
   ]
  },
  {
   "cell_type": "code",
   "execution_count": 23,
   "metadata": {},
   "outputs": [
    {
     "data": {
      "text/plain": [
       "6.121118451410544"
      ]
     },
     "execution_count": 23,
     "metadata": {},
     "output_type": "execute_result"
    }
   ],
   "source": [
    "mean_squared_error(Y_test,y_pred)"
   ]
  },
  {
   "cell_type": "code",
   "execution_count": 24,
   "metadata": {},
   "outputs": [
    {
     "data": {
      "text/plain": [
       "2.474089418636793"
      ]
     },
     "execution_count": 24,
     "metadata": {},
     "output_type": "execute_result"
    }
   ],
   "source": [
    "rms = sqrt(mean_squared_error(Y_test, y_pred))\n",
    "rms"
   ]
  },
  {
   "cell_type": "code",
   "execution_count": 25,
   "metadata": {},
   "outputs": [
    {
     "name": "stderr",
     "output_type": "stream",
     "text": [
      "C:\\Users\\Monika\\Anaconda3\\lib\\site-packages\\sklearn\\ensemble\\weight_boosting.py:29: DeprecationWarning: numpy.core.umath_tests is an internal NumPy module and should not be imported. It will be removed in a future NumPy release.\n",
      "  from numpy.core.umath_tests import inner1d\n"
     ]
    }
   ],
   "source": [
    "#Implementing Random Forest Regression\n",
    "\n",
    "from sklearn.ensemble import RandomForestRegressor\n",
    "regressor = RandomForestRegressor(n_estimators=10,random_state=0)"
   ]
  },
  {
   "cell_type": "code",
   "execution_count": 26,
   "metadata": {},
   "outputs": [
    {
     "data": {
      "text/plain": [
       "0.9988767071619098"
      ]
     },
     "execution_count": 26,
     "metadata": {},
     "output_type": "execute_result"
    }
   ],
   "source": [
    "regressor.fit(X_train,Y_train)\n",
    "y_pred=regressor.predict(X_test)\n",
    "regressor.score(X_test,Y_test)"
   ]
  },
  {
   "cell_type": "code",
   "execution_count": 27,
   "metadata": {},
   "outputs": [
    {
     "data": {
      "text/plain": [
       "3.5382877594169586"
      ]
     },
     "execution_count": 27,
     "metadata": {},
     "output_type": "execute_result"
    }
   ],
   "source": [
    "mean_squared_error(Y_test,y_pred)"
   ]
  },
  {
   "cell_type": "code",
   "execution_count": 28,
   "metadata": {},
   "outputs": [
    {
     "data": {
      "text/plain": [
       "1.8810336943864028"
      ]
     },
     "execution_count": 28,
     "metadata": {},
     "output_type": "execute_result"
    }
   ],
   "source": [
    "rms = sqrt(mean_squared_error(Y_test, y_pred))\n",
    "rms"
   ]
  }
 ],
 "metadata": {
  "kernelspec": {
   "display_name": "Python 3",
   "language": "python",
   "name": "python3"
  },
  "language_info": {
   "codemirror_mode": {
    "name": "ipython",
    "version": 3
   },
   "file_extension": ".py",
   "mimetype": "text/x-python",
   "name": "python",
   "nbconvert_exporter": "python",
   "pygments_lexer": "ipython3",
   "version": "3.7.3"
  }
 },
 "nbformat": 4,
 "nbformat_minor": 2
}
